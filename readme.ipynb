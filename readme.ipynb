{
 "cells": [
  {
   "cell_type": "markdown",
   "metadata": {
    "colab_type": "text",
    "id": "view-in-github"
   },
   "source": [
    "<a href=\"https://colab.research.google.com/github/hpatel530/Capstone/blob/main/readme.ipynb\" target=\"_parent\"><img src=\"https://colab.research.google.com/assets/colab-badge.svg\" alt=\"Open In Colab\"/></a>"
   ]
  },
  {
   "cell_type": "markdown",
   "metadata": {
    "id": "rqLBgxBWn4Lp"
   },
   "source": [
    "# **Image Classification For Autonomous Vehicles**\n",
    "\n",
    "---\n",
    "\n",
    "\n",
    "\n"
   ]
  },
  {
   "cell_type": "markdown",
   "metadata": {
    "id": "3LmuxmPvoo3W"
   },
   "source": [
    "## Creating A Multi-Label Image Classification Model For Autonomous Vehicles \n",
    "\n",
    "\n",
    "---\n",
    "\n",
    "\n",
    "\n",
    "\n"
   ]
  },
  {
   "cell_type": "markdown",
   "metadata": {
    "id": "FqS_sW0_oJbb"
   },
   "source": [
    "### **Author:** Hiten Patel \n",
    "\n",
    "The contents of this repository detail an analysis of my capstone project. This analysis is detailed in hopes of making the work accessible and replicable.\n",
    "\n",
    "**Blog Post:** \n",
    "\n"
   ]
  },
  {
   "cell_type": "markdown",
   "metadata": {
    "id": "XR7VrYRFrryt"
   },
   "source": [
    "<img src = selfdrivingreadme.jpeg>"
   ]
  },
  {
   "cell_type": "markdown",
   "metadata": {
    "id": "bdYhLJpTr_DB"
   },
   "source": [
    "## **Abstract**\n",
    "\n",
    "---\n",
    "\n",
    "On average, there are 6 million car accidents in the U.S. every year. That's roughly 16,438 car accidents per day. Of those 6 million car accidents, over 3 million people experience a non-fatal injury and over 37,000 Americans experience death. Over 100 people die per day due to car accidents in any given year. A 2016 study by the National Highway Transportation Safety Administration (NHTSA) found that human error accounts for 96% of all auto accidents.\n",
    "\n",
    "A self driving car, also known as an autonomous vehicle, is a vehicle that is capable of sensing it's environment and moving safely with no human input. An autonomous vehicle needs sensory input devices like cameras, radars,  and lidars to allow the car to perceive the world around it, creating a digital map. Object detection is a two-part process, image classification and then image localization. Our focus will be image classification, which is determining what the objects in a image are. Is it a car, traffic light, a person or all of the above?\n",
    "\n",
    "To explore this question, we built a convolutional neural network using the Berkely DeepDrive dataset to create a multi-label model which contains 70,000 training images and 10,000 validation images. \n",
    "\n",
    "This multi-label CNN model was responsible in predicting up to 12 labels in any given image. The dataset possesses geographic, environmental and weather diversity which is useful for training models that are less likely to be surprised by new conditions. Image classification labels consist of ['lane', 'drivable area', 'truck', 'motor', 'person', 'rider', 'bike', 'train', 'car', 'traffic light', 'bus', 'traffic sign']. Instead of using accuracy as our primary indicator on how well a model performs, we used Hamming Loss. The Hamming Loss function takes the number of incorrect labels predicted and divides it by the total number of labels. The lower the number (closer to 0), the better the model performed. The final cnn model produced a hamming score of 11%, which can be interpretated as 89% percent correctly predicted labels."
   ]
  },
  {
   "cell_type": "markdown",
   "metadata": {
    "id": "ERr1XwZSsurL"
   },
   "source": [
    "## **Business Problem**\n",
    "\n",
    "\n",
    "---\n",
    "\n",
    "Can we create a multi-label image classification system to help create an autonomous vehicles to mitigate car accidents and carbon dioxide?"
   ]
  },
  {
   "cell_type": "markdown",
   "metadata": {
    "id": "-i0zyhOmtns0"
   },
   "source": [
    "## **Data**\n",
    "\n",
    "\n",
    "---\n",
    "\n",
    "The data used in this project was obtained by:\n",
    "\n",
    "\n",
    "*   [Berkley Deep Drive ](https://bdd-data.berkeley.edu/)\n",
    "  * Click on download\n",
    "\n",
    "The dataset contains over 100,000 images and 100,000 videos. For this project, we used the images only. The dataset possesses geographic, environmental and weather diversity which is useful for training models. \n",
    "\n",
    ">**Citations:**\n",
    "@InProceedings{bdd100k,\n",
    "    author = {Yu, Fisher and Chen, Haofeng and Wang, Xin and Xian, Wenqi and Chen,\n",
    "              Yingying and Liu, Fangchen and Madhavan, Vashisht and Darrell, Trevor},\n",
    "    title = {BDD100K: A Diverse Driving Dataset for Heterogeneous Multitask Learning},\n",
    "    booktitle = {The IEEE Conference on Computer Vision and Pattern Recognition (CVPR)},\n",
    "    month = {June},\n",
    "    year = {2020}\n",
    "}\n",
    "\n",
    "\n",
    "\n",
    "\n"
   ]
  },
  {
   "cell_type": "markdown",
   "metadata": {
    "id": "dJQMtmalvpV3"
   },
   "source": [
    "## **Methods**\n",
    "\n",
    "---\n",
    "\n",
    "The project was organized based on the OSEMN framework; Obtain-Scrub-Explore-Model-iNtrepretation; we will go through a brief overview of each step. \n",
    "\n",
    "\n",
    "<img src = osemn.png>"
   ]
  },
  {
   "cell_type": "markdown",
   "metadata": {
    "id": "WCbZIjXIxcJ0"
   },
   "source": [
    "### **Scrub**\n",
    "\n",
    "\n",
    "---\n",
    "\n"
   ]
  },
  {
   "cell_type": "markdown",
   "metadata": {
    "id": "eBiNMLPeyXAn"
   },
   "source": [
    "The dataset contained an image folder which contained only images and a labels folder which contained the labels to go with the images. The labels covered each image in detail from category, attributes, location, and weather. For the purpose for this project, we only wanted 'category' which we extracted and ended up with 12 unique labels. \n",
    "\n",
    "In order to be used in a machine learning algorithm known as a convolutional neural network, we then needed to process each image through the ImageDataGenerator to rescale and resize. "
   ]
  },
  {
   "cell_type": "markdown",
   "metadata": {
    "id": "r48tOc6MxcTT"
   },
   "source": [
    "### **Explore**\n",
    "\n",
    "\n",
    "---\n"
   ]
  },
  {
   "cell_type": "markdown",
   "metadata": {
    "id": "pJu-q3y4HPFy"
   },
   "source": [
    "After we extracted our 12 unique labels, we took a look at how many times each label appeared. This is a multi-label classification problem so each image can have more than one label.As we can see below, the following labels had;\n",
    "\n",
    "a very low frequency: \n",
    "> ['train', 'motor', 'rider', 'bike', 'bus'] \n",
    "\n",
    "a medium frequency:\n",
    ">['truck', 'person', 'traffic light']\n",
    "\n",
    "and a high frequency: \n",
    ">['traffic sign', 'lane', 'drivable area', 'car']\n",
    "\n",
    "\n"
   ]
  },
  {
   "cell_type": "markdown",
   "metadata": {
    "id": "OulE_2fCH1t8"
   },
   "source": [
    "<img src = visual1.png>"
   ]
  },
  {
   "cell_type": "markdown",
   "metadata": {
    "id": "9wHEANQZJjBU"
   },
   "source": [
    "Once again, this is a multi-label image classification problem so let's take a look at what the label counts are per image. "
   ]
  },
  {
   "cell_type": "markdown",
   "metadata": {
    "id": "8CF__hhiKBWn"
   },
   "source": [
    "<img src = visual2.png>"
   ]
  },
  {
   "cell_type": "markdown",
   "metadata": {
    "id": "F9w7jX9JKHyI"
   },
   "source": [
    "As we can see above in the chart, 17,393 images had 4 labels. That was the most with 14,008 images had six labels coming in second. There were 13 images that had 11 labels and 0 images contained all 12 labels. "
   ]
  },
  {
   "cell_type": "markdown",
   "metadata": {
    "id": "EEkdHc8sxceJ"
   },
   "source": [
    "### **Model**\n",
    "\n",
    "\n",
    "---\n",
    "\n"
   ]
  },
  {
   "cell_type": "markdown",
   "metadata": {
    "id": "-G3ygv9hzake"
   },
   "source": [
    "#### **Basic Model**\n",
    "\n",
    "Our first CNN model will keep the feature space wide and shallow in the initial stages of the network by using smaller kernel/filter sizes and a low number of channels. This neural network will have a input layer, hidden layer and then an output layer.  The activation function will be 'relu' and the final activation will be 'sigmoid' as it is a multilabel image classification network. We will use the optimizer 'Adam' as it generally bodes well for CNNs. \n",
    "\n",
    "The best metric to measure our model is the Hamming Loss. Remember, hamming loss measures the incorrect predictions divided by the total number of predictions. For this model, we received a hamming score of .1292 (depending on the run), which in turn gives an accuracy of .8708. The next metric to measure our model is given by the accuracy on the test validation set which was approximately .2285 (depending on the run). The Val loss is .3288 and is greater than the loss at .2188, this could be signs of overfitting. In the first graph below, it illustrates the possibility of this model overfitting, we want the end points to be closer together. The second graph shows the similarites in accuracy which we also want the final points to end closely together as well. "
   ]
  },
  {
   "cell_type": "markdown",
   "metadata": {
    "id": "UaAyd0eA1VyJ"
   },
   "source": [
    "<img src = \"basic model .png\">"
   ]
  },
  {
   "cell_type": "markdown",
   "metadata": {
    "id": "PaemHQ1A1kUd"
   },
   "source": [
    "<img src= \"basic model img.png\">"
   ]
  },
  {
   "cell_type": "markdown",
   "metadata": {
    "id": "p5b7fAXb2qjW"
   },
   "source": [
    "#### **Tuned CNN Model**\n",
    "\n",
    "For our final tuned CNN model, we tried something a little diffrent. Our past models followed a Conv2D-Pool pattern for all it's layers and this time around we will implement a Conv2d-Conv2d-Pool pattern. After a grid search to retreive the best metrics, we inputted the following hyperparameters; \n",
    "\n",
    "* padding = 'valid'\n",
    "* dropout = '.5'\n",
    "* optimizer = 'adam' \n",
    "\n",
    "Along with these hyperparameters, we also implemented an early stopping protocol to prevent overfitting. "
   ]
  },
  {
   "cell_type": "code",
   "execution_count": null,
   "metadata": {
    "id": "FqcEqYdW3gaR"
   },
   "outputs": [],
   "source": [
    "def make_cnn(padding='same', dropout =.2, optimizer=keras.optimizers.Adam(lr=0.001)):\n",
    "    \"\"\"\n",
    "    Creating a neural network function\n",
    "\n",
    "    Parameters:\n",
    "    ----------\n",
    "        padding: 'same' or 'valid'\n",
    "        dropout: between 0 and 1\n",
    "        optimizer: keras optimizer \n",
    "\n",
    "    Returns:\n",
    "    -------\n",
    "        model summary\n",
    "        model (construction of model)\n",
    "    \"\"\"\n",
    "\n",
    "    #fix random seed for reproducibility\n",
    "    np.random.seed(123)\n",
    "\n",
    "    #instantiate model \n",
    "    model = Sequential()\n",
    "\n",
    "    #input layer \n",
    "    model.add(layers.Conv2D(32,(3, 3), activation='relu',padding=padding,\n",
    "              input_shape=(train_images.shape[1],train_images.shape[2],3)))\n",
    "    model.add(layers.Conv2D(32, (3, 3), activation='relu',padding=padding))\n",
    "    model.add(layers.MaxPooling2D((2, 2)))\n",
    "    model.add(layers.Dropout(dropout))\n",
    "\n",
    "    #first hidden layer\n",
    "    model.add(layers.Conv2D(64, (3, 3), activation='relu'))\n",
    "    model.add(layers.Conv2D(64, (3, 3), activation='relu'))\n",
    "    model.add(layers.MaxPooling2D((2, 2)))\n",
    "    model.add(layers.Dropout(dropout))\n",
    "\n",
    "    #second hidden layer \n",
    "    model.add(layers.Conv2D(128, (3, 3), activation='relu'))\n",
    "    model.add(layers.Conv2D(128, (3, 3), activation='relu'))\n",
    "    model.add(layers.MaxPooling2D((2, 2)))\n",
    "    model.add(layers.Dropout(dropout))\n",
    "\n",
    "    #output layer  \n",
    "    model.add(layers.Flatten())\n",
    "    model.add(layers.Dense(128, activation='relu'))\n",
    "    model.add(layers.Dense(64, activation='relu'))\n",
    "    model.add(layers.Dropout(dropout))\n",
    "    model.add(layers.Dense(12, activation='sigmoid'))\n",
    "\n",
    "    #compile model \n",
    "    model.compile(loss='binary_crossentropy',\n",
    "                  optimizer=optimizer,\n",
    "                  metrics=['acc'])\n",
    "\n",
    "    #summary\n",
    "    model.summary()\n",
    "    return model \n"
   ]
  },
  {
   "cell_type": "markdown",
   "metadata": {
    "id": "nCPsmX0C4153"
   },
   "source": [
    "The final tuned CNN model stopped at epoch 9 (depending on the run) to prevent over fitting. Once again, we will use the Hamming Score to measure the model which was .1172. A score closest to zero is what we cant and this was the best score thus far. This equals out to an accuracy of 89% (1-hamming score). The next metric to measure our model is given by the accuracy on the test validation set: approximately .006 (depending on the run). This is an extremely low score and may be a metric we choose to ignore. The loss for validation set (around .2645) is roughly the same as the loss for the train set (around .2698), signs of not overfitting. We can also take a look at the confusion matrix for the 12 labels. "
   ]
  },
  {
   "cell_type": "markdown",
   "metadata": {
    "id": "U1tF_oEv6E8W"
   },
   "source": [
    "<img src = \"final model .png\">"
   ]
  },
  {
   "cell_type": "markdown",
   "metadata": {
    "id": "VICtLS6SEPkf"
   },
   "source": [
    "<img src = \"matrix .png\">"
   ]
  },
  {
   "cell_type": "markdown",
   "metadata": {
    "id": "IWgLouwP8qZ7"
   },
   "source": [
    "#### **Pretrained Model** "
   ]
  },
  {
   "cell_type": "markdown",
   "metadata": {
    "id": "MJueKMOB9LeY"
   },
   "source": [
    "InceptionResNetV2\n",
    "\n",
    "For this pretrained model, we used an InceptionResNetV2 model and set the input and output parameters to meet our requirements. The base of this pretrained model is what we have added to make this tranfer learning successful. Although the model stopped at epoch 5 (depending on the run) to prevent overfitting, it has a very long training time. The hamming loss metric for this model was .1434(depending on the run) which in turn gives an accuracy of .8566. The next metric to measure our model is given by the accuracy on the test validation set which was approximately .9351(depending on the run). Wow!!! This is very interesting. All our models produced a very low accuracy score and this one was very high. The hamming score was higher of all the models.  The loss for validation set (around .271) is nearly equal to the loss for the train set (around .275), this shows no signs of overfitting. "
   ]
  },
  {
   "cell_type": "markdown",
   "metadata": {
    "id": "ZX09xodNH9YW"
   },
   "source": [
    "<img src = \"inception.png\">"
   ]
  },
  {
   "cell_type": "markdown",
   "metadata": {
    "id": "zrAaZxHzIH0a"
   },
   "source": [
    "<img src = \"inception matrix .png\">"
   ]
  },
  {
   "cell_type": "markdown",
   "metadata": {
    "id": "1GOnrg9hIUZD"
   },
   "source": [
    ">**Based on the results from our models, our tuned CNN model slightly outperformed our pretrained InceptionResNetV2 model. Both models returned a Hamming Loss Score of roughly 11-13% (depending on the run), both models showed no signs of overfitting.  CNN model had a test accuracy of roughly .006% (which was the lowest out of all the runs, usually around 10%) compared to the pretrained model returning a test accuracy score of roughly 93%. This was also an anomaly, usually we received around 10%. The metrics are interesting here, let's give each model a test run**"
   ]
  },
  {
   "cell_type": "markdown",
   "metadata": {
    "id": "g8icXCoixcmx"
   },
   "source": [
    "### **Intrepretations**\n",
    "\n",
    "\n",
    "---\n"
   ]
  },
  {
   "cell_type": "markdown",
   "metadata": {
    "id": "FDEaxQGlSACK"
   },
   "source": [
    "**Test 1**\n",
    "\n",
    "<img src = \"newtest .png\" width=\"500\">"
   ]
  },
  {
   "cell_type": "markdown",
   "metadata": {
    "id": "trlJ1luoSH9a"
   },
   "source": [
    "**CNN Model**\n",
    "<img src = \"Screen Shot 2020-12-19 at 10.03.11 AM.png\" width=\"400\">"
   ]
  },
  {
   "cell_type": "markdown",
   "metadata": {
    "id": "DY9sNPgmSXs8"
   },
   "source": [
    "**Pretrained Model**\n",
    "\n",
    "<img src = \"Screen Shot 2020-12-19 at 10.04.37 AM.png\" width=\"400\">"
   ]
  },
  {
   "cell_type": "markdown",
   "metadata": {
    "id": "iiMhk6fOSeR-"
   },
   "source": [
    ">**Observations:**\n",
    "* The final model did not predict 'truck' and incorrectly predicted 'traffic light'. The model got 10/12 labels correct. \n",
    "* The inception model did not predict 'truck'. The model got 11/12 labels correct."
   ]
  },
  {
   "cell_type": "markdown",
   "metadata": {
    "id": "BtFvWULpSjh3"
   },
   "source": [
    "**Test 2**\n",
    "\n",
    "<img src = \"testimage2.png\" width=\"500\">"
   ]
  },
  {
   "cell_type": "markdown",
   "metadata": {
    "id": "tNx84R28SpgZ"
   },
   "source": [
    "**CNN Model**\n",
    "\n",
    "<img src = \"Screen Shot 2020-12-19 at 10.13.19 AM.png\" width=\"400\">"
   ]
  },
  {
   "cell_type": "markdown",
   "metadata": {
    "id": "0CldL0ehSukW"
   },
   "source": [
    "**Pretrained Model**\n",
    "\n",
    "<img src = \"Screen Shot 2020-12-19 at 10.14.18 AM.png\" width=\"500\">"
   ]
  },
  {
   "cell_type": "markdown",
   "metadata": {
    "id": "0AF_fahTS6b4"
   },
   "source": [
    ">**Observations:**\n",
    "* The final model did not predict 'bus', 'truck', 'motor' or 'person'. 8 of 12 labels predicted correctly. \n",
    "* The inception model did not predict 'bus', 'truck', 'motor', 'traffic light' or 'person' leaving the model being correct on 7/12 labels. \n",
    "* Both models did not predict the same labels except 'traffic light'. This could be because those same labels are on the lower side of occurrences in the training set. The pretrained model could be confusing 'traffic light' and 'traffic sign'. "
   ]
  },
  {
   "cell_type": "markdown",
   "metadata": {
    "id": "n4oc0XFY3K-L"
   },
   "source": [
    "## **Results**\n",
    "\n",
    "\n",
    "---\n",
    "\n",
    "* The final model followed a Conv2D-Conv2D-Pool pattern with four layers. Input layer, hidden layer 1, hidden layer 2 and output layer. \n",
    "\n",
    "* Image Sizes were set at 86 x 86, this was the largest we could set the images at without my computer crashing.\n",
    "\n",
    "* The final model produced a hamming score of 11% which equals to a 89% accuracy rate. Remember, the hamming score loss function takes the number of wrongly predicted labels divided by total number of labels.\n",
    "\n",
    "* The InceptionResNetV2 model produced a hamming score of 14% which equals to 86% accuracy. \n",
    "\n",
    "* The training set had over 17,000 images that contained 4 different labels, which was the most. \n",
    "\n",
    "* The training set had 13 images that contained 11 labels, no images had all 12 labels at once. \n",
    "\n",
    "* The labels with the least occurrence(labels 0-5) in the training set, the final model and pretrained model had a hard time predicting. \n",
    "\n",
    "* The labels with the most occurrence (labels 6-11) in the training set, both models was able to predict most of the time except for 'traffic light' for the pretrained model. It seemed to miss this one most of the time. \n",
    "\n"
   ]
  },
  {
   "cell_type": "markdown",
   "metadata": {
    "id": "qJKj4B1EMGlF"
   },
   "source": [
    "<img src = \"Screen Shot 2020-12-17 at 11.32.46 AM.png\" width = \"400\">"
   ]
  },
  {
   "cell_type": "markdown",
   "metadata": {
    "id": "btGG9Bvd3TC7"
   },
   "source": [
    "## **Recommendations**\n",
    "\n",
    "---\n",
    "\n",
    "**Based on the analysis, we can offer the following recommendations:**\n",
    "\n",
    "1. Since this model is not predicting all objects correctly, car companies can use this model as a driver assistant to help alert the driver of what is seen on the road. Essentially a second pair of eyes which would be great when driving in either the dark, day or rush hour. This will help mitigate the occurrence of car accidents. \n",
    "\n",
    "2. This model can be used as a starting point for companies that are creating a self driving electric car. \n",
    "\n",
    "3. If you are building your own multi-label image classification model; I recommend the following; \n",
    "  * Use a convolutional neural network.\n",
    "  * A dataset that possesses geographic, environmental, and weather diversity, which is useful for training models that are less likely to be surprised by new conditions."
   ]
  },
  {
   "cell_type": "markdown",
   "metadata": {
    "id": "FDe8D6-W3hpj"
   },
   "source": [
    "## **Limitations & Next Steps**\n",
    "\n",
    "---\n",
    "\n",
    "To improve our project, the following steps have been outlined\n",
    "\n",
    "1. Data augmentation for labels that occured the least. This will improve the model and help classify objects that are rarely seen.\n",
    "\n",
    "2. Increase image size. The larger the image (while keeping its sharpness) will improve the model performance.\n",
    "\n",
    "3. Adding object localization. In this project, we completed object detection (image classification) which is to classify and detect all objects in a image.  The next step is object localization which is locating where that object is and drawing a bounding box. \n",
    "\n",
    "4. Explore other frameworks such as MEKA, LSTM and YOLO that can be used for multi-label classification problems "
   ]
  },
  {
   "cell_type": "markdown",
   "metadata": {
    "id": "BWRxjErd3rxO"
   },
   "source": [
    "## **For Further Information**\n",
    "\n",
    "---\n",
    "\n",
    "Please review the analysis in google colab notebook or the powerpoint presentation which is in pdf. \n",
    "\n",
    "For any additional questions, you can email me at h.patel.ms@gmail.com or connect with me on [Linkedln ](https://www.linkedin.com/in/hitenpatel3/)"
   ]
  }
 ],
 "metadata": {
  "colab": {
   "authorship_tag": "ABX9TyPTIpHIYka9tewFLFKPH9F9",
   "collapsed_sections": [],
   "include_colab_link": true,
   "name": "readme.ipynb",
   "provenance": []
  },
  "kernelspec": {
   "display_name": "Python 3",
   "language": "python",
   "name": "python3"
  },
  "language_info": {
   "codemirror_mode": {
    "name": "ipython",
    "version": 3
   },
   "file_extension": ".py",
   "mimetype": "text/x-python",
   "name": "python",
   "nbconvert_exporter": "python",
   "pygments_lexer": "ipython3",
   "version": "3.6.9"
  },
  "toc": {
   "base_numbering": 1,
   "nav_menu": {},
   "number_sections": true,
   "sideBar": true,
   "skip_h1_title": false,
   "title_cell": "Table of Contents",
   "title_sidebar": "Contents",
   "toc_cell": false,
   "toc_position": {},
   "toc_section_display": true,
   "toc_window_display": true
  }
 },
 "nbformat": 4,
 "nbformat_minor": 1
}
